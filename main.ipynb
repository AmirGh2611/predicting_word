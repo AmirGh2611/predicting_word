{
 "cells": [
  {
   "cell_type": "markdown",
   "id": "7be5bd01",
   "metadata": {},
   "source": [
    "## Import library"
   ]
  },
  {
   "cell_type": "code",
   "execution_count": 4,
   "id": "a2b0bdcc",
   "metadata": {},
   "outputs": [],
   "source": [
    "import pandas as pd\n",
    "import re"
   ]
  },
  {
   "cell_type": "markdown",
   "id": "04e4ee35",
   "metadata": {},
   "source": [
    "## bigram class"
   ]
  },
  {
   "cell_type": "code",
   "execution_count": 5,
   "id": "515293eb",
   "metadata": {},
   "outputs": [],
   "source": [
    "\n",
    "class Bigram:\n",
    "    def __init__(self, file_path):\n",
    "        self.file_path = file_path\n",
    "        self.corpus = self.data_prep()\n",
    "\n",
    "    # reading and preprocessing data\n",
    "    def data_prep(self):\n",
    "        df = pd.read_json(self.file_path)[\"body\"]\n",
    "        data = []\n",
    "        for i in df:\n",
    "            i = i.strip()\n",
    "            i = i.replace(\".\", \"\")\n",
    "            i = i.replace(\"،\", \"\")\n",
    "            i = i.replace(\"؟\", \"\")\n",
    "            i = i.replace(\"!\", \"\")\n",
    "            i = i.replace(\"؛\", \"\")\n",
    "            i = i.replace(\":\", \"\")\n",
    "            i = i.replace(\"»\", \"\")\n",
    "            i = i.replace(\"«\", \"\")\n",
    "            i = i.replace(\"(\", \"\")\n",
    "            i = i.replace(\")\", \"\")\n",
    "            i = re.sub(\"[0-9]{1,}\", \"\", i)  # removing numbers from dataset\n",
    "            i = i.replace(\"\\u200c\", \"\")  # fixting half space problem\n",
    "            data.append(i)\n",
    "        return data\n",
    "\n",
    "    # calculating the bigram\n",
    "    def calc_bigram(self):\n",
    "        word_bigrams = {}\n",
    "        for sentence in self.corpus:\n",
    "            tmp = sentence.split(\" \")\n",
    "            for i in range(1, len(tmp)):\n",
    "                word = tmp[i]\n",
    "                previous_word = tmp[i-1]\n",
    "                if not(word in word_bigrams):\n",
    "                    word_bigrams[word]=[]\n",
    "                word_bigrams[word].append(previous_word)\n",
    "        return word_bigrams"
   ]
  }
 ],
 "metadata": {
  "kernelspec": {
   "display_name": "NLP",
   "language": "python",
   "name": "python3"
  },
  "language_info": {
   "codemirror_mode": {
    "name": "ipython",
    "version": 3
   },
   "file_extension": ".py",
   "mimetype": "text/x-python",
   "name": "python",
   "nbconvert_exporter": "python",
   "pygments_lexer": "ipython3",
   "version": "3.12.11"
  }
 },
 "nbformat": 4,
 "nbformat_minor": 5
}
