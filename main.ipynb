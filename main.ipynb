{
 "cells": [
  {
   "cell_type": "markdown",
   "id": "7be5bd01",
   "metadata": {},
   "source": [
    "## Import library"
   ]
  },
  {
   "cell_type": "code",
   "execution_count": 2,
   "id": "a2b0bdcc",
   "metadata": {},
   "outputs": [],
   "source": [
    "import pandas as pd\n",
    "import re"
   ]
  },
  {
   "cell_type": "markdown",
   "id": "04e4ee35",
   "metadata": {},
   "source": [
    "## N-gram class"
   ]
  },
  {
   "cell_type": "code",
   "execution_count": null,
   "id": "515293eb",
   "metadata": {},
   "outputs": [],
   "source": [
    "\n",
    "class n_gram:\n",
    "    def __init__(self, file_path, n: int = 1):\n",
    "        self.n = n\n",
    "        self.dataset = dataset\n",
    "        self.file_path = file_path\n",
    "\n",
    "    # reading and preprocessing data\n",
    "    def data_prep(self):\n",
    "        df = pd.read_json(self.file_path)[\"body\"]\n",
    "        data = []\n",
    "        for i in df:\n",
    "            i = i.strip()\n",
    "            i = i.replace(\".\", \"\")\n",
    "            i = i.replace(\"،\", \"\")\n",
    "            i = i.replace(\"؟\", \"\")\n",
    "            i = i.replace(\"!\", \"\")\n",
    "            i = i.replace(\"؛\", \"\")\n",
    "            i = i.replace(\":\", \"\")\n",
    "            i = i.replace(\"»\", \"\")\n",
    "            i = i.replace(\"«\", \"\")\n",
    "            i = i.replace(\"(\", \"\")\n",
    "            i = i.replace(\")\", \"\")\n",
    "            i = re.sub(\"[0-9]{1,}\", \"\", i)\n",
    "            data.append(i)\n",
    "        return data\n",
    "    \n",
    "    # calculating the n grams statistics\n",
    "    def calc_n_gram(self):\n",
    "        pass"
   ]
  },
  {
   "cell_type": "markdown",
   "id": "32d062f3",
   "metadata": {},
   "source": [
    "## Reading data"
   ]
  },
  {
   "cell_type": "code",
   "execution_count": 7,
   "id": "ba1ef8c6",
   "metadata": {},
   "outputs": [],
   "source": [
    "df = pd.read_json(\"data.json\")[\"body\"]\n",
    "data = []\n",
    "for i in df:\n",
    "    i = i.strip()\n",
    "    i = i.replace(\".\", \"\")\n",
    "    i = i.replace(\"،\", \"\")\n",
    "    i = i.replace(\"؟\", \"\")\n",
    "    i = i.replace(\"!\", \"\")\n",
    "    i = i.replace(\"؛\", \"\")\n",
    "    i = i.replace(\":\", \"\")\n",
    "    i = i.replace(\"»\", \"\")\n",
    "    i = i.replace(\"«\", \"\")\n",
    "    i = i.replace(\"(\", \"\")\n",
    "    i = i.replace(\")\", \"\")\n",
    "    i = re.sub(\"[0-9]{1,}\", \"\", i)\n",
    "    data.append(i)"
   ]
  }
 ],
 "metadata": {
  "kernelspec": {
   "display_name": "NLP",
   "language": "python",
   "name": "python3"
  },
  "language_info": {
   "codemirror_mode": {
    "name": "ipython",
    "version": 3
   },
   "file_extension": ".py",
   "mimetype": "text/x-python",
   "name": "python",
   "nbconvert_exporter": "python",
   "pygments_lexer": "ipython3",
   "version": "3.12.11"
  }
 },
 "nbformat": 4,
 "nbformat_minor": 5
}
